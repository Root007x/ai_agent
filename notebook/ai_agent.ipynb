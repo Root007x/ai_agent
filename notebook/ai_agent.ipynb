{
 "cells": [
  {
   "cell_type": "code",
   "execution_count": 1,
   "id": "b207939c",
   "metadata": {},
   "outputs": [],
   "source": [
    "from langchain_groq import ChatGroq\n",
    "import os\n",
    "from dotenv import load_dotenv"
   ]
  },
  {
   "cell_type": "code",
   "execution_count": 2,
   "id": "1598d3e3",
   "metadata": {},
   "outputs": [],
   "source": [
    "load_dotenv()\n",
    "os.environ[\"GROQ_API_KEY\"] = os.getenv(\"GROQ_API_KEY\")\n",
    "os.environ[\"SMITHERY_API_KEY\"] = os.getenv(\"SMITHERY_API_KEY\")"
   ]
  },
  {
   "cell_type": "code",
   "execution_count": 3,
   "id": "c40b7faa",
   "metadata": {},
   "outputs": [],
   "source": [
    "llm = ChatGroq(\n",
    "    model= \"llama-3.3-70b-versatile\"\n",
    ")\n",
    "\n",
    "agent_llm = ChatGroq(\n",
    "    model=\"openai/gpt-oss-20b\"\n",
    ")"
   ]
  },
  {
   "cell_type": "code",
   "execution_count": 4,
   "id": "2a3d2907",
   "metadata": {},
   "outputs": [
    {
     "data": {
      "text/plain": [
       "AIMessage(content=\"It's nice to meet you. Is there something I can help you with or would you like to chat?\", additional_kwargs={}, response_metadata={'token_usage': {'completion_tokens': 23, 'prompt_tokens': 36, 'total_tokens': 59, 'completion_time': 0.035100865, 'prompt_time': 0.010927027, 'queue_time': 0.04890953, 'total_time': 0.046027892}, 'model_name': 'llama-3.3-70b-versatile', 'system_fingerprint': 'fp_3f3b593e33', 'service_tier': 'on_demand', 'finish_reason': 'stop', 'logprobs': None}, id='run--15870ec3-dfbf-4016-8ee0-c370f85dc9d2-0', usage_metadata={'input_tokens': 36, 'output_tokens': 23, 'total_tokens': 59})"
      ]
     },
     "execution_count": 4,
     "metadata": {},
     "output_type": "execute_result"
    }
   ],
   "source": [
    "llm.invoke(\"hi\")"
   ]
  },
  {
   "cell_type": "code",
   "execution_count": 5,
   "id": "af83102b",
   "metadata": {},
   "outputs": [],
   "source": [
    "# text to image https://pollinations.ai/\n",
    "from urllib.parse import quote\n",
    "\n",
    "def image_generation(prompt : str):\n",
    "    encoded_prompt = quote(prompt)\n",
    "    image_url = f\"https://image.pollinations.ai/prompt/{encoded_prompt}\"\n",
    "    \n",
    "    return image_url"
   ]
  },
  {
   "cell_type": "code",
   "execution_count": 6,
   "id": "f6600f33",
   "metadata": {},
   "outputs": [],
   "source": [
    "from langchain_mcp_adapters.client import MultiServerMCPClient"
   ]
  },
  {
   "cell_type": "code",
   "execution_count": 7,
   "id": "cc20dfca",
   "metadata": {},
   "outputs": [],
   "source": [
    "url1 = \"https://server.smithery.ai/exa/mcp?api_key=6b22a5b2-d640-40fe-b823-f62c5a83063b&profile=sacred-guanaco-pEmpOL\"\n",
    "\n",
    "async def tool_1():\n",
    "    # Create an MCP client with HTTP transport\n",
    "    client = MultiServerMCPClient({\n",
    "        \"server1\": {\n",
    "            \"url\": url1,\n",
    "            \"transport\": \"streamable_http\",\n",
    "        }\n",
    "    })\n",
    "    \n",
    "    # Get tools from all servers\n",
    "    tools = await client.get_tools()\n",
    "    return tools"
   ]
  },
  {
   "cell_type": "code",
   "execution_count": 8,
   "id": "2b33db9c",
   "metadata": {},
   "outputs": [],
   "source": [
    "mcp_tools = await tool_1()"
   ]
  },
  {
   "cell_type": "code",
   "execution_count": 9,
   "id": "540ceb69",
   "metadata": {},
   "outputs": [
    {
     "data": {
      "text/plain": [
       "[StructuredTool(name='web_search_exa', description='Search the web using Exa AI - performs real-time web searches and can scrape content from specific URLs. Supports configurable result counts and returns the content from the most relevant websites.', args_schema={'type': 'object', 'properties': {'query': {'type': 'string', 'description': 'Search query'}, 'numResults': {'type': 'number', 'description': 'Number of search results to return (default: 5)'}}, 'required': ['query'], 'additionalProperties': False, '$schema': 'http://json-schema.org/draft-07/schema#'}, response_format='content_and_artifact', coroutine=<function convert_mcp_tool_to_langchain_tool.<locals>.call_tool at 0x0000029B4EC405E0>),\n",
       " StructuredTool(name='company_research_exa', description='Research companies using Exa AI - finds comprehensive information about businesses, organizations, and corporations. Provides insights into company operations, news, financial information, and industry analysis.', args_schema={'type': 'object', 'properties': {'companyName': {'type': 'string', 'description': 'Name of the company to research'}, 'numResults': {'type': 'number', 'description': 'Number of search results to return (default: 5)'}}, 'required': ['companyName'], 'additionalProperties': False, '$schema': 'http://json-schema.org/draft-07/schema#'}, response_format='content_and_artifact', coroutine=<function convert_mcp_tool_to_langchain_tool.<locals>.call_tool at 0x0000029B4EC40680>),\n",
       " StructuredTool(name='crawling_exa', description='Extract and crawl content from specific URLs using Exa AI - retrieves full text content, metadata, and structured information from web pages. Ideal for extracting detailed content from known URLs.', args_schema={'type': 'object', 'properties': {'url': {'type': 'string', 'description': 'URL to crawl and extract content from'}, 'maxCharacters': {'type': 'number', 'description': 'Maximum characters to extract (default: 3000)'}}, 'required': ['url'], 'additionalProperties': False, '$schema': 'http://json-schema.org/draft-07/schema#'}, response_format='content_and_artifact', coroutine=<function convert_mcp_tool_to_langchain_tool.<locals>.call_tool at 0x0000029B4C1F1300>),\n",
       " StructuredTool(name='linkedin_search_exa', description='Search LinkedIn profiles and companies using Exa AI - finds professional profiles, company pages, and business-related content on LinkedIn. Useful for networking, recruitment, and business research.', args_schema={'type': 'object', 'properties': {'query': {'type': 'string', 'description': 'LinkedIn search query (e.g., person name, company, job title)'}, 'searchType': {'type': 'string', 'enum': ['profiles', 'companies', 'all'], 'description': 'Type of LinkedIn content to search (default: all)'}, 'numResults': {'type': 'number', 'description': 'Number of LinkedIn results to return (default: 5)'}}, 'required': ['query'], 'additionalProperties': False, '$schema': 'http://json-schema.org/draft-07/schema#'}, response_format='content_and_artifact', coroutine=<function convert_mcp_tool_to_langchain_tool.<locals>.call_tool at 0x0000029B4EC8B920>),\n",
       " StructuredTool(name='deep_researcher_start', description='Start a comprehensive AI-powered deep research task for complex queries. This tool initiates an intelligent agent that performs extensive web searches, crawls relevant pages, analyzes information, and synthesizes findings into a detailed research report. The agent thinks critically about the research topic and provides thorough, well-sourced answers. Use this for complex research questions that require in-depth analysis rather than simple searches. After starting a research task, IMMEDIATELY use deep_researcher_check with the returned task ID to monitor progress and retrieve results.', args_schema={'type': 'object', 'properties': {'instructions': {'type': 'string', 'description': 'Complex research question or detailed instructions for the AI researcher. Be specific about what you want to research and any particular aspects you want covered.'}, 'model': {'type': 'string', 'enum': ['exa-research', 'exa-research-pro'], 'description': \"Research model: 'exa-research' (faster, 15-45s, good for most queries) or 'exa-research-pro' (more comprehensive, 45s-2min, for complex topics). Default: exa-research\"}}, 'required': ['instructions'], 'additionalProperties': False, '$schema': 'http://json-schema.org/draft-07/schema#'}, response_format='content_and_artifact', coroutine=<function convert_mcp_tool_to_langchain_tool.<locals>.call_tool at 0x0000029B4EC8B420>),\n",
       " StructuredTool(name='deep_researcher_check', description=\"Check the status and retrieve results of a deep research task. This tool monitors the progress of an AI agent that performs comprehensive web searches, analyzes multiple sources, and synthesizes findings into detailed research reports. The tool includes a built-in 5-second delay before checking to allow processing time. IMPORTANT: You must call this tool repeatedly (poll) until the status becomes 'completed' to get the final research results. When status is 'running', wait a few seconds and call this tool again with the same task ID.\", args_schema={'type': 'object', 'properties': {'taskId': {'type': 'string', 'description': 'The task ID returned from deep_researcher_start tool'}}, 'required': ['taskId'], 'additionalProperties': False, '$schema': 'http://json-schema.org/draft-07/schema#'}, response_format='content_and_artifact', coroutine=<function convert_mcp_tool_to_langchain_tool.<locals>.call_tool at 0x0000029B4EC8B060>)]"
      ]
     },
     "execution_count": 9,
     "metadata": {},
     "output_type": "execute_result"
    }
   ],
   "source": [
    "mcp_tools"
   ]
  },
  {
   "cell_type": "code",
   "execution_count": 10,
   "id": "8020cca7",
   "metadata": {},
   "outputs": [],
   "source": [
    "mcp_tools = mcp_tools"
   ]
  },
  {
   "cell_type": "code",
   "execution_count": 11,
   "id": "3392a5da",
   "metadata": {},
   "outputs": [
    {
     "data": {
      "text/plain": [
       "[StructuredTool(name='web_search_exa', description='Search the web using Exa AI - performs real-time web searches and can scrape content from specific URLs. Supports configurable result counts and returns the content from the most relevant websites.', args_schema={'type': 'object', 'properties': {'query': {'type': 'string', 'description': 'Search query'}, 'numResults': {'type': 'number', 'description': 'Number of search results to return (default: 5)'}}, 'required': ['query'], 'additionalProperties': False, '$schema': 'http://json-schema.org/draft-07/schema#'}, response_format='content_and_artifact', coroutine=<function convert_mcp_tool_to_langchain_tool.<locals>.call_tool at 0x0000029B4EC405E0>),\n",
       " StructuredTool(name='company_research_exa', description='Research companies using Exa AI - finds comprehensive information about businesses, organizations, and corporations. Provides insights into company operations, news, financial information, and industry analysis.', args_schema={'type': 'object', 'properties': {'companyName': {'type': 'string', 'description': 'Name of the company to research'}, 'numResults': {'type': 'number', 'description': 'Number of search results to return (default: 5)'}}, 'required': ['companyName'], 'additionalProperties': False, '$schema': 'http://json-schema.org/draft-07/schema#'}, response_format='content_and_artifact', coroutine=<function convert_mcp_tool_to_langchain_tool.<locals>.call_tool at 0x0000029B4EC40680>),\n",
       " StructuredTool(name='crawling_exa', description='Extract and crawl content from specific URLs using Exa AI - retrieves full text content, metadata, and structured information from web pages. Ideal for extracting detailed content from known URLs.', args_schema={'type': 'object', 'properties': {'url': {'type': 'string', 'description': 'URL to crawl and extract content from'}, 'maxCharacters': {'type': 'number', 'description': 'Maximum characters to extract (default: 3000)'}}, 'required': ['url'], 'additionalProperties': False, '$schema': 'http://json-schema.org/draft-07/schema#'}, response_format='content_and_artifact', coroutine=<function convert_mcp_tool_to_langchain_tool.<locals>.call_tool at 0x0000029B4C1F1300>),\n",
       " StructuredTool(name='linkedin_search_exa', description='Search LinkedIn profiles and companies using Exa AI - finds professional profiles, company pages, and business-related content on LinkedIn. Useful for networking, recruitment, and business research.', args_schema={'type': 'object', 'properties': {'query': {'type': 'string', 'description': 'LinkedIn search query (e.g., person name, company, job title)'}, 'searchType': {'type': 'string', 'enum': ['profiles', 'companies', 'all'], 'description': 'Type of LinkedIn content to search (default: all)'}, 'numResults': {'type': 'number', 'description': 'Number of LinkedIn results to return (default: 5)'}}, 'required': ['query'], 'additionalProperties': False, '$schema': 'http://json-schema.org/draft-07/schema#'}, response_format='content_and_artifact', coroutine=<function convert_mcp_tool_to_langchain_tool.<locals>.call_tool at 0x0000029B4EC8B920>),\n",
       " StructuredTool(name='deep_researcher_start', description='Start a comprehensive AI-powered deep research task for complex queries. This tool initiates an intelligent agent that performs extensive web searches, crawls relevant pages, analyzes information, and synthesizes findings into a detailed research report. The agent thinks critically about the research topic and provides thorough, well-sourced answers. Use this for complex research questions that require in-depth analysis rather than simple searches. After starting a research task, IMMEDIATELY use deep_researcher_check with the returned task ID to monitor progress and retrieve results.', args_schema={'type': 'object', 'properties': {'instructions': {'type': 'string', 'description': 'Complex research question or detailed instructions for the AI researcher. Be specific about what you want to research and any particular aspects you want covered.'}, 'model': {'type': 'string', 'enum': ['exa-research', 'exa-research-pro'], 'description': \"Research model: 'exa-research' (faster, 15-45s, good for most queries) or 'exa-research-pro' (more comprehensive, 45s-2min, for complex topics). Default: exa-research\"}}, 'required': ['instructions'], 'additionalProperties': False, '$schema': 'http://json-schema.org/draft-07/schema#'}, response_format='content_and_artifact', coroutine=<function convert_mcp_tool_to_langchain_tool.<locals>.call_tool at 0x0000029B4EC8B420>),\n",
       " StructuredTool(name='deep_researcher_check', description=\"Check the status and retrieve results of a deep research task. This tool monitors the progress of an AI agent that performs comprehensive web searches, analyzes multiple sources, and synthesizes findings into detailed research reports. The tool includes a built-in 5-second delay before checking to allow processing time. IMPORTANT: You must call this tool repeatedly (poll) until the status becomes 'completed' to get the final research results. When status is 'running', wait a few seconds and call this tool again with the same task ID.\", args_schema={'type': 'object', 'properties': {'taskId': {'type': 'string', 'description': 'The task ID returned from deep_researcher_start tool'}}, 'required': ['taskId'], 'additionalProperties': False, '$schema': 'http://json-schema.org/draft-07/schema#'}, response_format='content_and_artifact', coroutine=<function convert_mcp_tool_to_langchain_tool.<locals>.call_tool at 0x0000029B4EC8B060>)]"
      ]
     },
     "execution_count": 11,
     "metadata": {},
     "output_type": "execute_result"
    }
   ],
   "source": [
    "mcp_tools"
   ]
  },
  {
   "cell_type": "markdown",
   "id": "7855af53",
   "metadata": {},
   "source": [
    "### Agent"
   ]
  },
  {
   "cell_type": "code",
   "execution_count": 95,
   "id": "a7f46c7e",
   "metadata": {},
   "outputs": [],
   "source": [
    "from langgraph.graph import StateGraph, START, END, add_messages\n",
    "from langgraph.checkpoint.memory import MemorySaver\n",
    "from IPython.display import Image, display\n",
    "from typing_extensions import TypedDict\n",
    "from typing import Annotated\n",
    "from pydantic import BaseModel, Field\n",
    "from typing import Literal\n",
    "from langchain_core.messages import SystemMessage, HumanMessage\n",
    "from langgraph.prebuilt import create_react_agent\n"
   ]
  },
  {
   "cell_type": "code",
   "execution_count": 96,
   "id": "8364b075",
   "metadata": {},
   "outputs": [],
   "source": [
    "decision_system_prompt = \"\"\"\n",
    "    You are an assistant that determines the user's intent from a prompt. \n",
    "    Return only ONE of these keywords exactly: Q&A, LatestInfo, Image, PlatformContent, Unknown.\n",
    "\n",
    "    Here is what each option means:\n",
    "    - Q&A: The user wants an answer to a factual or general knowledge question.\n",
    "    - LatestInfo: The user wants real-time or recent information from the internet (e.g., weather, news).\n",
    "    - Image: The user wants to generate an image based on a description.\n",
    "    - PlatformContent: The user wants content tailored for a specific platform (e.g., Facebook, LinkedIn, Twitter).\n",
    "\n",
    "    Do NOT include any explanations, punctuation, or extra text. Return ONLY the keyword exactly as listed above.\n",
    "\"\"\""
   ]
  },
  {
   "cell_type": "code",
   "execution_count": 97,
   "id": "5d6fa565",
   "metadata": {},
   "outputs": [],
   "source": [
    "tailor_system_prompt = \"\"\"\n",
    "You are a Social Media Content Tailoring Assistant.\n",
    "Your task is to take a single base message and rewrite it so it is optimized for specific platforms such as Facebook, LinkedIn, and Twitter/X.\n",
    "\n",
    "Rules:\n",
    "1. Keep the core meaning of the message intact.\n",
    "2. Adjust tone, length, and style to match the platform’s audience and norms.\n",
    "3. Facebook: friendly, conversational, slightly longer, encourage sharing, can use emojis.\n",
    "4. LinkedIn: professional, benefit-oriented, concise but informative, avoid slang, focus on business/research impact.\n",
    "5. Twitter/X: short, attention-grabbing, hashtags allowed, max 280 characters, punchy tone.\n",
    "6. Do not fabricate information — only reframe the original message.\n",
    "\n",
    "Example Output:\n",
    "{\n",
    "  \"facebook\": \"🚀 We’ve launched our new AI Image Generator! Type anything you imagine and watch it come to life instantly. Share your creations with friends! 👉 [link]\",\n",
    "  \"linkedin\": \"Excited to launch our AI Image Generator! This tool helps creatives and businesses turn ideas into visuals in seconds, saving time and boosting creativity. Explore: [link]\",\n",
    "  \"twitter\": \"🚀 Just launched: AI Image Generator! Turn words → art in seconds. Try it: [link] #AI #Innovation\"\n",
    "}\n",
    "\"\"\""
   ]
  },
  {
   "cell_type": "code",
   "execution_count": 98,
   "id": "7135720b",
   "metadata": {},
   "outputs": [],
   "source": [
    "# class State(TypedDict):\n",
    "#     messages : Annotated[list, add_messages]"
   ]
  },
  {
   "cell_type": "code",
   "execution_count": 99,
   "id": "3d7833da",
   "metadata": {},
   "outputs": [],
   "source": [
    "class RouteDecision(BaseModel):\n",
    "    step : Literal[\"Q&A\", \"LatestInfo\", \"Image\", \"PlatformContent\"] = Field(description=\"The next step in the routing process.\")\n",
    "    \n",
    "llm_with_decision = llm.with_structured_output(RouteDecision)"
   ]
  },
  {
   "cell_type": "code",
   "execution_count": 191,
   "id": "45cc278a",
   "metadata": {},
   "outputs": [],
   "source": [
    "class State(TypedDict):\n",
    "    input : str\n",
    "    decision : str\n",
    "    output : str"
   ]
  },
  {
   "cell_type": "markdown",
   "id": "49604975",
   "metadata": {},
   "source": [
    "#### Define node"
   ]
  },
  {
   "cell_type": "code",
   "execution_count": 192,
   "id": "9d250c2a",
   "metadata": {},
   "outputs": [],
   "source": [
    "serach_agent = create_react_agent(\n",
    "    model = agent_llm,\n",
    "    tools=mcp_tools\n",
    ")"
   ]
  },
  {
   "cell_type": "code",
   "execution_count": 193,
   "id": "2423a7bf",
   "metadata": {},
   "outputs": [],
   "source": [
    "# Node 1\n",
    "def q_and_a(state : State): # Done\n",
    "    \"\"\"Q&A\"\"\"\n",
    "    result = llm.invoke(state[\"input\"])\n",
    "    return {\"output\" : result.content}\n",
    "\n",
    "# Node 2\n",
    "async def latest_info(state: State): # Done\n",
    "    search_response = await serach_agent.ainvoke(\n",
    "        {\"messages\" : [{\"role\" : \"user\", \"content\" : state[\"input\"]}]}\n",
    "    )\n",
    "    return {\"output\" : search_response[\"messages\"]}\n",
    "    \n",
    "\n",
    "# Node 3\n",
    "def img_gen(state : State): # Done\n",
    "    img_url = image_generation(state[\"input\"])\n",
    "    return {\"output\" : img_url}\n",
    "\n",
    "# Node 4\n",
    "def content_tailor(state : State):\n",
    "    result = llm.invoke(\n",
    "        [\n",
    "            SystemMessage(content=tailor_system_prompt),\n",
    "            HumanMessage(content=state[\"input\"])\n",
    "        ]\n",
    "    )\n",
    "    return {\"output\" : result.content}\n",
    "\n",
    "# Node 5\n",
    "def call_router(state : State):\n",
    "    \"\"\"Route the input to the appropriate node\"\"\"\n",
    "    \n",
    "    decision = llm_with_decision.invoke(\n",
    "        [\n",
    "            SystemMessage(\n",
    "                content=decision_system_prompt\n",
    "            ),\n",
    "            HumanMessage(content=state[\"input\"])\n",
    "        ]\n",
    "    )\n",
    "    return {\"decision\" : decision.step}\n"
   ]
  },
  {
   "cell_type": "code",
   "execution_count": 194,
   "id": "8b33acad",
   "metadata": {},
   "outputs": [],
   "source": [
    "# conditional function to route the node\n",
    "def route_decision(state : State):\n",
    "    if state[\"decision\"] == \"Q&A\":\n",
    "        return \"q_and_a\"\n",
    "    elif state[\"decision\"] == \"LatestInfo\":\n",
    "        return \"latest_info\"\n",
    "    elif state[\"decision\"] == \"Image\":\n",
    "        return \"img_gen\"\n",
    "    elif state[\"decision\"] == \"PlatformContent\":\n",
    "        return \"content_tailor\"\n",
    "    else:\n",
    "        return \"q_and_a\""
   ]
  },
  {
   "cell_type": "code",
   "execution_count": 198,
   "id": "73f9a910",
   "metadata": {},
   "outputs": [],
   "source": [
    "graph_builder = StateGraph(State)\n",
    "\n",
    "# Add Node\n",
    "graph_builder.add_node(\"call_router\", call_router)\n",
    "graph_builder.add_node(\"q_and_a\", q_and_a)\n",
    "graph_builder.add_node(\"latest_info\", latest_info)\n",
    "graph_builder.add_node(\"img_gen\", img_gen)\n",
    "graph_builder.add_node(\"content_tailor\", content_tailor)\n",
    "# graph_builder.add_node(\"tools\", ToolNode(mcp_tools))\n",
    "\n",
    "# Add Edge\n",
    "graph_builder.add_edge(START, \"call_router\")\n",
    "graph_builder.add_conditional_edges(\n",
    "    \"call_router\",\n",
    "    route_decision,\n",
    "    {\n",
    "        \"q_and_a\" : \"q_and_a\",\n",
    "        \"latest_info\" : \"latest_info\",\n",
    "        \"img_gen\" : \"img_gen\",\n",
    "        \"content_tailor\" : \"content_tailor\"\n",
    "    }\n",
    ")\n",
    "\n",
    "graph_builder.add_edge(\"q_and_a\", END)\n",
    "graph_builder.add_edge(\"img_gen\", END)\n",
    "graph_builder.add_edge(\"content_tailor\", END)\n",
    "graph_builder.add_edge(\"latest_info\", END)\n",
    "\n",
    "# graph_builder.add_conditional_edges(\n",
    "#     \"latest_info\",\n",
    "#     tools_condition\n",
    "# )\n",
    "\n",
    "\n",
    "graph = graph_builder.compile()\n"
   ]
  },
  {
   "cell_type": "code",
   "execution_count": 199,
   "id": "cf02a3e8",
   "metadata": {},
   "outputs": [
    {
     "data": {
      "image/png": "[encoded data removed]",
      "text/plain": [
       "<IPython.core.display.Image object>"
      ]
     },
     "metadata": {},
     "output_type": "display_data"
    }
   ],
   "source": [
    "display(Image(graph.get_graph().draw_mermaid_png()))"
   ]
  },
  {
   "cell_type": "code",
   "execution_count": 200,
   "id": "5a305027",
   "metadata": {},
   "outputs": [
    {
     "data": {
      "text/plain": [
       "{'input': 'hi',\n",
       " 'decision': 'Q&A',\n",
       " 'output': \"It's nice to meet you. Is there something I can help you with or would you like to chat?\"}"
      ]
     },
     "execution_count": 200,
     "metadata": {},
     "output_type": "execute_result"
    }
   ],
   "source": [
    "config = {\n",
    "    \"configurable\" : {\"thread_id\" : '42'}\n",
    "}\n",
    "\n",
    "state = await graph.ainvoke(\n",
    "    {\n",
    "        \"input\" : \"hi\"\n",
    "    },\n",
    "    config = config\n",
    ")\n",
    "state"
   ]
  },
  {
   "cell_type": "markdown",
   "id": "47a3b5eb",
   "metadata": {},
   "source": [
    "### Routing process\n"
   ]
  },
  {
   "cell_type": "code",
   "execution_count": null,
   "id": "0a99f6c9",
   "metadata": {},
   "outputs": [],
   "source": []
  }
 ],
 "metadata": {
  "kernelspec": {
   "display_name": "Agent_AI",
   "language": "python",
   "name": "python3"
  },
  "language_info": {
   "codemirror_mode": {
    "name": "ipython",
    "version": 3
   },
   "file_extension": ".py",
   "mimetype": "text/x-python",
   "name": "python",
   "nbconvert_exporter": "python",
   "pygments_lexer": "ipython3",
   "version": "3.12.11"
  }
 },
 "nbformat": 4,
 "nbformat_minor": 5
}
